{
 "cells": [
  {
   "cell_type": "code",
   "execution_count": 8,
   "metadata": {},
   "outputs": [],
   "source": [
    "import cv2\n",
    "import numpy as np"
   ]
  },
  {
   "cell_type": "code",
   "execution_count": 9,
   "metadata": {},
   "outputs": [],
   "source": [
    "from keras.models import load_model\n",
    "\n",
    "model = load_model('detect.h5')"
   ]
  },
  {
   "cell_type": "code",
   "execution_count": 10,
   "metadata": {},
   "outputs": [],
   "source": [
    "image=cv2.imread('C:/Users/KIIT/Pictures/Camera Roll/overall-design-middle.png')\n",
    "image = cv2.resize(image, (224, 224))\n",
    "image = np.expand_dims(image, axis=0)\n",
    "results=model.predict(image)"
   ]
  },
  {
   "cell_type": "code",
   "execution_count": 11,
   "metadata": {},
   "outputs": [],
   "source": [
    "results=results.reshape(4)"
   ]
  },
  {
   "cell_type": "code",
   "execution_count": 12,
   "metadata": {},
   "outputs": [
    {
     "data": {
      "text/plain": [
       "array([0.000000e+00, 1.000000e+00, 6.678812e-13, 3.920677e-30],\n",
       "      dtype=float32)"
      ]
     },
     "execution_count": 12,
     "metadata": {},
     "output_type": "execute_result"
    }
   ],
   "source": [
    "results"
   ]
  },
  {
   "cell_type": "code",
   "execution_count": 13,
   "metadata": {},
   "outputs": [
    {
     "data": {
      "text/plain": [
       "4"
      ]
     },
     "execution_count": 13,
     "metadata": {},
     "output_type": "execute_result"
    }
   ],
   "source": [
    "len(results)\n"
   ]
  },
  {
   "cell_type": "code",
   "execution_count": 14,
   "metadata": {},
   "outputs": [],
   "source": [
    "image=cv2.imread('C:/Users/KIIT/Pictures/Camera Roll/overall-design-middle.png')\n",
    "max=results[0]\n",
    "temp=0\n",
    "c=0\n",
    "while True:\n",
    "    if results[temp] > max:\n",
    "            max=results[temp]\n",
    "            c=temp\n",
    "    temp=temp+1\n",
    "    if temp==2:\n",
    "        break\n",
    "if c==0:\n",
    "    confidence = int( 100 * (1 - (max)/400) )\n",
    "    display_string = str(confidence) + '% Confident it is ADARSH'\n",
    "    cv2.putText(image, display_string, (100, 120), cv2.FONT_HERSHEY_COMPLEX, 1, (255,120,150), 3)\n",
    "    while True:\n",
    "        cv2.imshow('hello',image)\n",
    "        if cv2.waitKey(0) == 13:\n",
    "        \n",
    "            break;\n",
    "        \n",
    "    cv2.destroyAllWindows()\n",
    "elif c==1:\n",
    "    confidence = int( 100 * (1 - (max)/400) )\n",
    "    display_string = str(confidence) + '% Confident it is mobile'\n",
    "    cv2.putText(image, display_string, (100, 120), cv2.FONT_HERSHEY_COMPLEX, 1, (255,120,150), 3)\n",
    "    while True:\n",
    "        cv2.imshow('hello',image)\n",
    "        if cv2.waitKey(0) == 13:\n",
    "        \n",
    "            break;\n",
    "        \n",
    "    cv2.destroyAllWindows()\n",
    "elif c==2:\n",
    "    confidence = int( 100 * (1 - (max)/400) )\n",
    "    display_string = str(confidence) + '% Confident it is bottle'\n",
    "    cv2.putText(image, display_string, (100, 120), cv2.FONT_HERSHEY_COMPLEX, 1, (255,120,150), 3)\n",
    "    while True:\n",
    "        cv2.imshow('hello',image)\n",
    "        if cv2.waitKey(0) == 13:\n",
    "        \n",
    "            break;\n",
    "        \n",
    "    cv2.destroyAllWindows()\n",
    "elif c==3:\n",
    "    confidence = int( 100 * (1 - (max)/400) )\n",
    "    display_string = str(confidence) + '% Confident it is SIVANGI'\n",
    "    cv2.putText(image, display_string, (100, 120), cv2.FONT_HERSHEY_COMPLEX, 1, (255,120,150), 3)\n",
    "    while True:\n",
    "        cv2.imshow('hello',image)\n",
    "        if cv2.waitKey(0) == 13:\n",
    "        \n",
    "            break;\n",
    "        \n",
    "    cv2.destroyAllWindows()"
   ]
  },
  {
   "cell_type": "code",
   "execution_count": null,
   "metadata": {},
   "outputs": [],
   "source": []
  },
  {
   "cell_type": "markdown",
   "metadata": {},
   "source": [
    "max"
   ]
  },
  {
   "cell_type": "code",
   "execution_count": null,
   "metadata": {},
   "outputs": [],
   "source": []
  },
  {
   "cell_type": "code",
   "execution_count": null,
   "metadata": {},
   "outputs": [],
   "source": []
  },
  {
   "cell_type": "code",
   "execution_count": null,
   "metadata": {},
   "outputs": [],
   "source": []
  },
  {
   "cell_type": "code",
   "execution_count": null,
   "metadata": {},
   "outputs": [],
   "source": []
  }
 ],
 "metadata": {
  "kernelspec": {
   "display_name": "Python 3",
   "language": "python",
   "name": "python3"
  },
  "language_info": {
   "codemirror_mode": {
    "name": "ipython",
    "version": 3
   },
   "file_extension": ".py",
   "mimetype": "text/x-python",
   "name": "python",
   "nbconvert_exporter": "python",
   "pygments_lexer": "ipython3",
   "version": "3.7.7"
  }
 },
 "nbformat": 4,
 "nbformat_minor": 4
}
